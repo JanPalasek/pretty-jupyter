{
    "cells": [
    ],
    "metadata": {
        "orig_nbformat": 4,
        "pj": {
            "title": "Untitled",
            "author": "Developer",
            "date": "{{ datetime.now().strftime('%Y-%m-%d') }}"
        }
    },
    "nbformat": 4,
    "nbformat_minor": 2
}