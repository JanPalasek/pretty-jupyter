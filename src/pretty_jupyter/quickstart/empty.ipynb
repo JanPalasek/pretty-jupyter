{
    "cells": [
        {
            "cell_type": "raw",
            "metadata": {},
            "source": [
                "title: Untitled\n",
                "author: Developer\n",
                "date: \"{{ datetime.now().strftime('%Y-%m-%d %H:%M:%S') }}\""
            ]
        },
        {
            "cell_type": "code",
            "execution_count": null,
            "metadata": {},
            "outputs": [],
            "source": [
                "%load_ext pretty_jupyter"
            ]
        }
    ],
    "metadata": {
        "language_info": {
            "name": "python"
        }
    },
    "nbformat": 4,
    "nbformat_minor": 2
}
