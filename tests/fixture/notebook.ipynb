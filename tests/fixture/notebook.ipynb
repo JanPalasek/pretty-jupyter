{
 "cells": [
  {
   "cell_type": "code",
   "execution_count": 1,
   "metadata": {},
   "outputs": [],
   "source": [
    "%load_ext pretty_jupyter"
   ]
  },
  {
   "cell_type": "code",
   "execution_count": 2,
   "metadata": {},
   "outputs": [
    {
     "data": {
      "text/markdown": [
       "\n",
       "# Introduction\n",
       "\n",
       "The purpose of this notebook is only to test functionality of the Pretty Jupyter.\n",
       "\n",
       "# Chapter 1: Tabs\n",
       "<span class='pretty-jupyter-token tabset tabset-pills' style='display: none;'></span>\n",
       "\n",
       "First we will test tabsets together with maths. We can clearly see that no math symbol is leaking.\n",
       "\n",
       "## Tab 1\n",
       "\n",
       "First tab.\n",
       "\n",
       "## Tab 2\n",
       "\n",
       "Second tab. This tab contains some math symbols, such as inline math: $a = 5$.\n",
       "\n",
       "Another symbol:\n",
       "\n",
       "$$a \\cdot a^2 = \\frac{a^5}{a^2} = a^3 = 125$$\n",
       "\n",
       "## Tab 3\n",
       "\n",
       "Tab 3."
      ],
      "text/plain": [
       "<IPython.core.display.Markdown object>"
      ]
     },
     "execution_count": 2,
     "metadata": {},
     "output_type": "execute_result"
    }
   ],
   "source": [
    "%%jinja markdown\n",
    "\n",
    "# Introduction\n",
    "\n",
    "The purpose of this notebook is only to test functionality of the Pretty Jupyter.\n",
    "\n",
    "# Chapter 1: Tabs\n",
    "[//]: <> (-.- tabset tabset-pills)\n",
    "\n",
    "First we will test tabsets together with maths. We can clearly see that no math symbol is leaking.\n",
    "\n",
    "## Tab 1\n",
    "\n",
    "First tab.\n",
    "\n",
    "## Tab 2\n",
    "\n",
    "Second tab. This tab contains some math symbols, such as inline math: $a = 5$.\n",
    "\n",
    "Another symbol:\n",
    "\n",
    "$$a \\cdot a^2 = \\frac{a^5}{a^2} = a^3 = 125$$\n",
    "\n",
    "## Tab 3\n",
    "\n",
    "Tab 3."
   ]
  },
  {
   "cell_type": "code",
   "execution_count": 3,
   "metadata": {},
   "outputs": [
    {
     "data": {
      "text/markdown": [
       "\n",
       "# Chapter 2: Jinja Markdown\n",
       "\n",
       "Jinja Markdown is a great way how to combine variables together with Markdown."
      ],
      "text/plain": [
       "<IPython.core.display.Markdown object>"
      ]
     },
     "execution_count": 3,
     "metadata": {},
     "output_type": "execute_result"
    }
   ],
   "source": [
    "%%jinja markdown\n",
    "\n",
    "# Chapter 2: Jinja Markdown\n",
    "\n",
    "Jinja Markdown is a great way how to combine variables together with Markdown."
   ]
  },
  {
   "cell_type": "code",
   "execution_count": 4,
   "metadata": {},
   "outputs": [],
   "source": [
    "import pandas as pd\n",
    "\n",
    "data = pd.DataFrame({\n",
    "    \"A\": [1, 2, 3, 4],\n",
    "    \"B\": [\"One\", \"Two\", \"Three\", \"Four\"]\n",
    "})"
   ]
  },
  {
   "cell_type": "code",
   "execution_count": 5,
   "metadata": {},
   "outputs": [
    {
     "data": {
      "text/markdown": [
       "\n",
       "Using Jinja Markdown, we can show the table as part of our markdown text:\n",
       "\n",
       "<details>\n",
       "\n",
       "<table border=\"1\" class=\"dataframe\">\n",
       "  <thead>\n",
       "    <tr style=\"text-align: right;\">\n",
       "      <th></th>\n",
       "      <th>A</th>\n",
       "      <th>B</th>\n",
       "    </tr>\n",
       "  </thead>\n",
       "  <tbody>\n",
       "    <tr>\n",
       "      <th>0</th>\n",
       "      <td>1</td>\n",
       "      <td>One</td>\n",
       "    </tr>\n",
       "    <tr>\n",
       "      <th>1</th>\n",
       "      <td>2</td>\n",
       "      <td>Two</td>\n",
       "    </tr>\n",
       "    <tr>\n",
       "      <th>2</th>\n",
       "      <td>3</td>\n",
       "      <td>Three</td>\n",
       "    </tr>\n",
       "    <tr>\n",
       "      <th>3</th>\n",
       "      <td>4</td>\n",
       "      <td>Four</td>\n",
       "    </tr>\n",
       "  </tbody>\n",
       "</table>\n",
       "\n",
       "</details>"
      ],
      "text/plain": [
       "<IPython.core.display.Markdown object>"
      ]
     },
     "execution_count": 5,
     "metadata": {},
     "output_type": "execute_result"
    }
   ],
   "source": [
    "%%jinja markdown\n",
    "\n",
    "Using Jinja Markdown, we can show the table as part of our markdown text:\n",
    "\n",
    "<details>\n",
    "\n",
    "{{ data.to_html() }}\n",
    "\n",
    "</details>"
   ]
  },
  {
   "cell_type": "code",
   "execution_count": 6,
   "metadata": {},
   "outputs": [],
   "source": [
    "a = 10"
   ]
  },
  {
   "cell_type": "code",
   "execution_count": 7,
   "metadata": {},
   "outputs": [
    {
     "data": {
      "text/markdown": [
       "\n",
       "We can also combine variables and math symbols thanks to Jinja Markdown and create more complex expressions, such as the following:\n",
       "\n",
       "\n",
       "<details>\n",
       "\n",
       "$$\n",
       "\n",
       "\\begin{align}\n",
       "\n",
       "a &= 10 \\\\\n",
       "\\frac{a^{10}}{a^8} &= \\frac{ 10^{10} }{ 10^8 } \\\\\n",
       "\\frac{ 10^{10} }{ 10^8 } &= 10^{2} \\\\\n",
       "10^{2} &= 100 \\\\\n",
       "\n",
       "\\end{align}\n",
       "$$\n",
       "\n",
       "</details>"
      ],
      "text/plain": [
       "<IPython.core.display.Markdown object>"
      ]
     },
     "execution_count": 7,
     "metadata": {},
     "output_type": "execute_result"
    }
   ],
   "source": [
    "%%jinja markdown\n",
    "\n",
    "We can also combine variables and math symbols thanks to Jinja Markdown and create more complex expressions, such as the following:\n",
    "\n",
    "\n",
    "<details>\n",
    "\n",
    "$$\n",
    "\n",
    "\\begin{align}\n",
    "\n",
    "a &= {{a}} \\\\\n",
    "\\frac{a^{10}}{a^8} &= \\frac{ {{a}}^{10} }{ {{a}}^8 } \\\\\n",
    "\\frac{ {{a}}^{10} }{ {{a}}^8 } &= {{a}}^{2} \\\\\n",
    "{{a}}^{2} &= {{ a ** 2 }} \\\\\n",
    "\n",
    "\\end{align}\n",
    "$$\n",
    "\n",
    "</details>"
   ]
  },
  {
   "cell_type": "code",
   "execution_count": 8,
   "metadata": {},
   "outputs": [],
   "source": [
    "import matplotlib.pyplot as plt\n",
    "import seaborn as sns\n",
    "sns.set_theme()\n",
    "\n",
    "import base64\n",
    "from io import BytesIO\n",
    "\n",
    "IMG_FORMAT = r\"<img src='data:image/png;base64,{encoded}'>'\"\n",
    "\n",
    "tmpfile = BytesIO()\n",
    "\n",
    "fig, ax = plt.subplots()\n",
    "sns.countplot(x=data[\"A\"], ax=ax).set(title=\"Example Figure\")\n",
    "fig.savefig(tmpfile, format=\"png\")\n",
    "plt.close()\n",
    "\n",
    "encoded = IMG_FORMAT.format(encoded=base64.b64encode(tmpfile.getvalue()).decode('utf-8'))"
   ]
  },
  {
   "cell_type": "code",
   "execution_count": 9,
   "metadata": {},
   "outputs": [
    {
     "data": {
      "text/markdown": [
       "\n",
       "We can even include matplotlib figures in-between our markdown, although this is a bit hardcore.\n",
       "\n",
       "**Watch this:**\n",
       "\n",
       "<img src='data:image/png;base64,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'>'"
      ],
      "text/plain": [
       "<IPython.core.display.Markdown object>"
      ]
     },
     "execution_count": 9,
     "metadata": {},
     "output_type": "execute_result"
    }
   ],
   "source": [
    "%%jinja markdown\n",
    "\n",
    "We can even include matplotlib figures in-between our markdown, although this is a bit hardcore.\n",
    "\n",
    "**Watch this:**\n",
    "\n",
    "{{ encoded }}\n",
    "\n"
   ]
  },
  {
   "cell_type": "code",
   "execution_count": 13,
   "metadata": {},
   "outputs": [
    {
     "data": {
      "text/markdown": [
       "\n",
       "Jinja Markdown also has a handy alias. Instead of writing `%%jinja` markdown we can just write `%%jmd`."
      ],
      "text/plain": [
       "<IPython.core.display.Markdown object>"
      ]
     },
     "execution_count": 13,
     "metadata": {},
     "output_type": "execute_result"
    }
   ],
   "source": [
    "%%jmd\n",
    "\n",
    "Jinja Markdown also has a handy alias. Instead of writing `%%jinja` markdown we can just write `%%jmd`."
   ]
  }
 ],
 "metadata": {
  "code_folding": "show",
  "kernelspec": {
   "display_name": "Python 3.9.13 ('venv': venv)",
   "language": "python",
   "name": "python3"
  },
  "language_info": {
   "codemirror_mode": {
    "name": "ipython",
    "version": 3
   },
   "file_extension": ".py",
   "mimetype": "text/x-python",
   "name": "python",
   "nbconvert_exporter": "python",
   "pygments_lexer": "ipython3",
   "version": "3.9.13"
  },
  "orig_nbformat": 4,
  "vscode": {
   "interpreter": {
    "hash": "bcd7e97cf71e998a93ec80db15725ed4a4806c1de3630361ecb7124b538cb899"
   }
  }
 },
 "nbformat": 4,
 "nbformat_minor": 2
}
