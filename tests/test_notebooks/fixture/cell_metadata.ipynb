{
    "cells": [
        {
            "cell_type": "raw",
            "metadata": {},
            "source": [
                "title: Metadata\n",
                "output:\n",
                "    html:\n",
                "        toc: false"
            ]
        },
        {
            "cell_type": "code",
            "execution_count": null,
            "metadata": {},
            "outputs": [],
            "source": [
                "# -.-|m { output: false, input: false}\n",
                "%load_ext pretty_jupyter"
            ]
        },
        {
            "cell_type": "code",
            "execution_count": null,
            "metadata": {},
            "outputs": [],
            "source": [
                "%%jmd\n",
                "[//]: # (-.-|m { input: true, input_fold: show })\n",
                "\n",
                "Jmd with output that is visible and output that is also visible."
            ]
        },
        {
            "cell_type": "code",
            "execution_count": null,
            "metadata": {
                "pj_metadata": {
                    "input": true,
                    "output": false
                }
            },
            "outputs": [],
            "source": [
                "%%jmd\n",
                "\n",
                "Jmd cell with input visible and output invisible."
            ]
        },
        {
            "cell_type": "code",
            "execution_count": null,
            "metadata": {},
            "outputs": [],
            "source": [
                "# -.-|m { input: true, input_fold: show, output: true, output_stdout: false }\n",
                "from IPython.display import display, Markdown\n",
                "\n",
                "print(\"This cell has has disabled stdout so this print will not be seen.\")\n",
                "display(Markdown(\"This cell has enabled output, so this output will be seen.\"))"
            ]
        },
        {
            "cell_type": "code",
            "execution_count": null,
            "metadata": {},
            "outputs": [],
            "source": [
                "# -.-|m { input: false, input_fold: hide, output_error: false, output_stdout: true }\n",
                "\n",
                "print(\"Also we can hide the output error.\")\n",
                "\n",
                "raise ValueError(\"Some error in the application.\")"
            ]
        },
        {
            "cell_type": "code",
            "execution_count": null,
            "metadata": {},
            "outputs": [],
            "source": [
                "# -.-|m { output_error: true }\n",
                "\n",
                "display(Markdown(\"But by they can be also shown!\"))\n",
                "\n",
                "raise ValueError(\"Some application error.\")"
            ]
        }
    ],
    "metadata": {
        "kernelspec": {
            "display_name": "Python 3.9.13 ('venv': venv)",
            "language": "python",
            "name": "python3"
        },
        "language_info": {
            "codemirror_mode": {
                "name": "ipython",
                "version": 3
            },
            "file_extension": ".py",
            "mimetype": "text/x-python",
            "name": "python",
            "nbconvert_exporter": "python",
            "pygments_lexer": "ipython3",
            "version": "3.9.13"
        },
        "vscode": {
            "interpreter": {
                "hash": "bcd7e97cf71e998a93ec80db15725ed4a4806c1de3630361ecb7124b538cb899"
            }
        }
    },
    "nbformat": 4,
    "nbformat_minor": 2
}
