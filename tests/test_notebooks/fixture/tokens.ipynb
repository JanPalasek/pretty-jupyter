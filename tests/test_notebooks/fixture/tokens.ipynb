{
    "cells": [
        {
            "cell_type": "raw",
            "metadata": {},
            "source": [
                "title: Tokens\n",
                "output:\n",
                "    general:\n",
                "        input: false\n",
                "    html:\n",
                "        toc: false\n",
                "        code_folding: disable"
            ]
        },
        {
            "cell_type": "code",
            "execution_count": null,
            "metadata": {},
            "outputs": [],
            "source": [
                "%load_ext pretty_jupyter\n",
                "import pandas as pd"
            ]
        },
        {
            "cell_type": "code",
            "execution_count": null,
            "metadata": {},
            "outputs": [],
            "source": [
                "%%jmd\n",
                "\n",
                "<style>\n",
                "    .blue {\n",
                "        background-color: blue;\n",
                "    }\n",
                "\n",
                "    .grey {\n",
                "        background-color: grey;\n",
                "    }\n",
                "\n",
                "    .red {\n",
                "        background-color: red;\n",
                "    }\n",
                "</style>\n",
                "\n",
                "# Token for header\n",
                "\n",
                "## Header\n",
                "[//]: # (-.- #header-id .blue)\n",
                "\n",
                "## Header with newlines\n",
                "\n",
                "\n",
                "[//]: # (-.- #header-spaces-id red)\n",
                "\n",
                "## Header with whitespaces\n",
                "\n",
                "      \n",
                "\n",
                "  \n",
                "[//]: # (-.- #header-whitespaces-id grey)"
            ]
        },
        {
            "cell_type": "code",
            "execution_count": null,
            "metadata": {},
            "outputs": [],
            "source": [
                "%%jmd\n",
                "\n",
                "# Markdown Table\n",
                "\n",
                "| col 1 | col 2 | col 3 |\n",
                "|-------|-------|-------|\n",
                "| value1|value2 |value3 |\n",
                "\n",
                "[//]: # (-.- #table-id .table-fit)"
            ]
        },
        {
            "cell_type": "code",
            "execution_count": null,
            "metadata": {},
            "outputs": [],
            "source": [
                "%%jmd\n",
                "\n",
                "# Pandas Table\n",
                "\n",
                "This is just a test, there is a better way to add css to pandas table! Pandas supports it natively.\n",
                "\n",
                "{{ pd.DataFrame({\"a\": [1, 2, 3], \"b\": [4, 5, 6]}).to_html(index=False) }}\n",
                "[//]: # (-.- #ptable-id .red .pj-table-ignore)"
            ]
        },
        {
            "cell_type": "code",
            "execution_count": null,
            "metadata": {},
            "outputs": [],
            "source": [
                "%%jmd\n",
                "\n",
                "<style>\n",
                "    .white-letter {\n",
                "        color: white;\n",
                "    }\n",
                "\n",
                "    .red {\n",
                "        background-color: red;\n",
                "    }\n",
                "</style>\n",
                "\n",
                "# HTML element\n",
                "\n",
                "<p>Paragraph</p>\n",
                "[//]: # (-.- #paragraph-id white-letter red)"
            ]
        }
    ],
    "metadata": {
        "kernelspec": {
            "display_name": "Python 3.9.13 ('venv': venv)",
            "language": "python",
            "name": "python3"
        },
        "language_info": {
            "codemirror_mode": {
                "name": "ipython",
                "version": 3
            },
            "file_extension": ".py",
            "mimetype": "text/x-python",
            "name": "python",
            "nbconvert_exporter": "python",
            "pygments_lexer": "ipython3",
            "version": "3.9.13"
        },
        "vscode": {
            "interpreter": {
                "hash": "bcd7e97cf71e998a93ec80db15725ed4a4806c1de3630361ecb7124b538cb899"
            }
        }
    },
    "nbformat": 4,
    "nbformat_minor": 2
}
