{
 "cells": [
  {
   "cell_type": "raw",
   "metadata": {},
   "source": [
    "title: Language\n",
    "output:\n",
    "    html:\n",
    "        toc: true"
   ]
  },
  {
   "cell_type": "code",
   "execution_count": null,
   "metadata": {},
   "outputs": [],
   "source": [
    "%load_ext pretty_jupyter"
   ]
  },
  {
   "cell_type": "code",
   "execution_count": null,
   "metadata": {},
   "outputs": [],
   "source": [
    "%%jmd\n",
    "\n",
    "The point of this document is to test multiple language with multiple characters.\n",
    "\n",
    "# Čeština\n",
    "\n",
    "## Hlavička s českými znaky\n",
    "\n",
    "Header with czech letters.\n",
    "\n",
    "## Hlavička s českými znaky\n",
    "\n",
    "Another header with the same name. This tests duplicates.\n"
   ]
  },
  {
   "cell_type": "code",
   "execution_count": null,
   "metadata": {},
   "outputs": [],
   "source": [
    "%%jmd\n",
    "\n",
    "## Tabset\n",
    "[//]: # (-.- .tabset .tabset-pills)\n",
    "\n",
    "### Český Tab (s divnými znaky \"-_#'<>{}[])\n",
    "\n",
    "First tab.\n",
    "\n",
    "### Český Tab (s divnými znaky \"-_#'<>{}[])\n",
    "\n",
    "Second tab.\n",
    "\n",
    "## Unikátní česká hlavička\n",
    "[//]: # (-.- #české-id)\n",
    "\n",
    "## Česká hlavička (s divnými znaky \"'#-_<>{}[])"
   ]
  },
  {
   "cell_type": "code",
   "execution_count": null,
   "metadata": {},
   "outputs": [],
   "source": [
    "%%jmd\n",
    "\n",
    "# ру́сский язы́к\n",
    "\n",
    "## Бланк с буквами\n",
    "\n",
    "Header with russian letters.\n",
    "\n",
    "## Бланк с буквами\n",
    "\n",
    "Another header with the same name."
   ]
  },
  {
   "cell_type": "code",
   "execution_count": null,
   "metadata": {},
   "outputs": [],
   "source": [
    "%%jmd\n",
    "\n",
    "## Tabset\n",
    "[//]: # (-.- .tabset .tabset-pills)\n",
    "\n",
    "### вкладка\n",
    "\n",
    "First tab.\n",
    "\n",
    "### вкладка\n",
    "\n",
    "Second tab.\n",
    "\n",
    "## Уникальный заголовок\n",
    "[//]: # (-.- #Российский-ID)"
   ]
  }
 ],
 "metadata": {
  "kernelspec": {
   "display_name": "Python 3.9.13 ('venv': venv)",
   "language": "python",
   "name": "python3"
  },
  "language_info": {
   "codemirror_mode": {
    "name": "ipython",
    "version": 3
   },
   "file_extension": ".py",
   "mimetype": "text/x-python",
   "name": "python",
   "nbconvert_exporter": "python",
   "pygments_lexer": "ipython3",
   "version": "3.9.13"
  },
  "orig_nbformat": 4,
  "vscode": {
   "interpreter": {
    "hash": "bcd7e97cf71e998a93ec80db15725ed4a4806c1de3630361ecb7124b538cb899"
   }
  }
 },
 "nbformat": 4,
 "nbformat_minor": 2
}
