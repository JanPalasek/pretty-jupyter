{
 "cells": [
  {
   "cell_type": "raw",
   "metadata": {},
   "source": [
    "title: Table of Contents\n",
    "date: \"{{ datetime.now().strftime('%Y-%m-%d') }}\"\n",
    "output:\n",
    "    html:\n",
    "        toc: true\n",
    "        toc_depth: 2\n",
    "        toc_collapsed: false"
   ]
  },
  {
   "cell_type": "code",
   "execution_count": null,
   "metadata": {},
   "outputs": [],
   "source": [
    "%load_ext pretty_jupyter"
   ]
  },
  {
   "cell_type": "code",
   "execution_count": null,
   "metadata": {},
   "outputs": [],
   "source": [
    "%%jmd\n",
    "\n",
    "# Level 1\n",
    "\n",
    "Lorem ipsum dolor sit amet, consectetuer adipiscing elit. Aliquam id dolor. Nullam feugiat, turpis at pulvinar vulputate, erat libero tristique tellus, nec bibendum odio risus sit amet ante. Duis bibendum, lectus ut viverra rhoncus, dolor nunc faucibus libero, eget facilisis enim ipsum id lacus. Duis condimentum augue id magna semper rutrum. Etiam egestas wisi a erat. Nulla quis diam. Etiam egestas wisi a erat. Nullam eget nisl. Aliquam erat volutpat. Nullam at arcu a est sollicitudin euismod. Ut enim ad minim veniam, quis nostrud exercitation ullamco laboris nisi ut aliquip ex ea commodo consequat. Aenean id metus id velit ullamcorper pulvinar. Suspendisse sagittis ultrices augue."
   ]
  },
  {
   "cell_type": "code",
   "execution_count": null,
   "metadata": {},
   "outputs": [],
   "source": [
    "%%jmd\n",
    "\n",
    "## Level 2\n",
    "\n",
    "Fusce tellus. Maecenas fermentum, sem in pharetra pellentesque, velit turpis volutpat ante, in pharetra metus odio a lectus. Aliquam erat volutpat. Pellentesque sapien. Cum sociis natoque penatibus et magnis dis parturient montes, nascetur ridiculus mus. Cum sociis natoque penatibus et magnis dis parturient montes, nascetur ridiculus mus. Nulla turpis magna, cursus sit amet, suscipit a, interdum id, felis. Etiam sapien elit, consequat eget, tristique non, venenatis quis, ante. Integer pellentesque quam vel velit. Etiam dictum tincidunt diam. Etiam quis quam. Etiam dictum tincidunt diam. Nulla quis diam. Maecenas lorem. Vestibulum erat nulla, ullamcorper nec, rutrum non, nonummy ac, erat. Neque porro quisquam est, qui dolorem ipsum quia dolor sit amet, consectetur, adipisci velit, sed quia non numquam eius modi tempora incidunt ut labore et dolore magnam aliquam quaerat voluptatem. In convallis."
   ]
  },
  {
   "cell_type": "code",
   "execution_count": null,
   "metadata": {},
   "outputs": [],
   "source": [
    "%%jmd\n",
    "### Level 3\n",
    "\n",
    "Nulla non arcu lacinia neque faucibus fringilla. In rutrum. Cum sociis natoque penatibus et magnis dis parturient montes, nascetur ridiculus mus. Fusce wisi. Etiam posuere lacus quis dolor. Aenean id metus id velit ullamcorper pulvinar. Fusce tellus odio, dapibus id fermentum quis, suscipit id erat. Duis condimentum augue id magna semper rutrum. Aliquam erat volutpat. Praesent dapibus. Temporibus autem quibusdam et aut officiis debitis aut rerum necessitatibus saepe eveniet ut et voluptates repudiandae sint et molestiae non recusandae. Mauris suscipit, ligula sit amet pharetra semper, nibh ante cursus purus, vel sagittis velit mauris vel metus. Donec vitae arcu. Sed ac dolor sit amet purus malesuada congue.\n",
    "\n",
    "Nulla non lectus sed nisl molestie malesuada. Maecenas libero. Etiam dui sem, fermentum vitae, sagittis id, malesuada in, quam. Fusce consectetuer risus a nunc. Duis risus. Integer in sapien. Aliquam in lorem sit amet leo accumsan lacinia. Temporibus autem quibusdam et aut officiis debitis aut rerum necessitatibus saepe eveniet ut et voluptates repudiandae sint et molestiae non recusandae. Etiam commodo dui eget wisi. Integer malesuada. Maecenas libero. Nulla non lectus sed nisl molestie malesuada. Fusce tellus odio, dapibus id fermentum quis, suscipit id erat. Duis ante orci, molestie vitae vehicula venenatis, tincidunt ac pede. Mauris tincidunt sem sed arcu. Nunc tincidunt ante vitae massa. Aliquam erat volutpat. Maecenas ipsum velit, consectetuer eu lobortis ut, dictum at dui. Pellentesque ipsum."
   ]
  },
  {
   "cell_type": "code",
   "execution_count": null,
   "metadata": {},
   "outputs": [],
   "source": [
    "%%jmd\n",
    "\n",
    "#### Level 4\n",
    "\n",
    "Nulla quis diam. Integer in sapien. Vivamus luctus egestas leo. Pellentesque pretium lectus id turpis. Pellentesque sapien. Integer pellentesque quam vel velit. Morbi scelerisque luctus velit. Cras pede libero, dapibus nec, pretium sit amet, tempor quis. Nullam lectus justo, vulputate eget mollis sed, tempor sed magna. Fusce dui leo, imperdiet in, aliquam sit amet, feugiat eu, orci. Pellentesque habitant morbi tristique senectus et netus et malesuada fames ac turpis egestas. Duis ante orci, molestie vitae vehicula venenatis, tincidunt ac pede. Sed vel lectus. Donec odio tempus molestie, porttitor ut, iaculis quis, sem. Nulla non arcu lacinia neque faucibus fringilla. Vestibulum fermentum tortor id mi. Fusce nibh.\n",
    "\n",
    "Nullam eget nisl. Pellentesque sapien. Duis risus. Etiam dui sem, fermentum vitae, sagittis id, malesuada in, quam. Nunc dapibus tortor vel mi dapibus sollicitudin. Suspendisse sagittis ultrices augue. Sed convallis magna eu sem. Fusce suscipit libero eget elit. Fusce tellus. Integer pellentesque quam vel velit. Sed vel lectus. Donec odio tempus molestie, porttitor ut, iaculis quis, sem. Quis autem vel eum iure reprehenderit qui in ea voluptate velit esse quam nihil molestiae consequatur, vel illum qui dolorem eum fugiat quo voluptas nulla pariatur? Nullam justo enim, consectetuer nec, ullamcorper ac, vestibulum in, elit.\n",
    "\n",
    "Nulla turpis magna, cursus sit amet, suscipit a, interdum id, felis. Integer vulputate sem a nibh rutrum consequat. Et harum quidem rerum facilis est et expedita distinctio. Curabitur ligula sapien, pulvinar a vestibulum quis, facilisis vel sapien. Et harum quidem rerum facilis est et expedita distinctio. Cum sociis natoque penatibus et magnis dis parturient montes, nascetur ridiculus mus. Nam libero tempore, cum soluta nobis est eligendi optio cumque nihil impedit quo minus id quod maxime placeat facere possimus, omnis voluptas assumenda est, omnis dolor repellendus. Etiam dictum tincidunt diam. Proin in tellus sit amet nibh dignissim sagittis. Suspendisse nisl. Nullam dapibus fermentum ipsum. Etiam egestas wisi a erat. In dapibus augue non sapien. Vivamus luctus egestas leo. Cum sociis natoque penatibus et magnis dis parturient montes, nascetur ridiculus mus."
   ]
  },
  {
   "cell_type": "code",
   "execution_count": null,
   "metadata": {},
   "outputs": [],
   "source": [
    "%%jmd\n",
    "\n",
    "### Level 3\n",
    "\n",
    "Mauris suscipit, ligula sit amet pharetra semper, nibh ante cursus purus, vel sagittis velit mauris vel metus. Nam quis nulla. Nunc tincidunt ante vitae massa. Phasellus faucibus molestie nisl. Et harum quidem rerum facilis est et expedita distinctio. Mauris dictum facilisis augue. Fusce nibh. Duis bibendum, lectus ut viverra rhoncus, dolor nunc faucibus libero, eget facilisis enim ipsum id lacus. Morbi leo mi, nonummy eget tristique non, rhoncus non leo. Integer lacinia. Pellentesque ipsum. Itaque earum rerum hic tenetur a sapiente delectus, ut aut reiciendis voluptatibus maiores alias consequatur aut perferendis doloribus asperiores repellat. Nullam lectus justo, vulputate eget mollis sed, tempor sed magna. Excepteur sint occaecat cupidatat non proident, sunt in culpa qui officia deserunt mollit anim id est laborum. Praesent id justo in neque elementum ultrices.\n",
    "\n",
    "Maecenas aliquet accumsan leo. Phasellus enim erat, vestibulum vel, aliquam a, posuere eu, velit. Phasellus rhoncus. Donec quis nibh at felis congue commodo. Nam libero tempore, cum soluta nobis est eligendi optio cumque nihil impedit quo minus id quod maxime placeat facere possimus, omnis voluptas assumenda est, omnis dolor repellendus. In enim a arcu imperdiet malesuada. Aliquam erat volutpat. Aliquam in lorem sit amet leo accumsan lacinia. Nulla turpis magna, cursus sit amet, suscipit a, interdum id, felis. Integer tempor.\n",
    "\n",
    "Etiam ligula pede, sagittis quis, interdum ultricies, scelerisque eu. Phasellus enim erat, vestibulum vel, aliquam a, posuere eu, velit. Mauris dolor felis, sagittis at, luctus sed, aliquam non, tellus. Integer imperdiet lectus quis justo. Sed ut perspiciatis unde omnis iste natus error sit voluptatem accusantium doloremque laudantium, totam rem aperiam, eaque ipsa quae ab illo inventore veritatis et quasi architecto beatae vitae dicta sunt explicabo. Temporibus autem quibusdam et aut officiis debitis aut rerum necessitatibus saepe eveniet ut et voluptates repudiandae sint et molestiae non recusandae. Sed elit dui, pellentesque a, faucibus vel, interdum nec, diam. Aliquam id dolor. Proin mattis lacinia justo. Duis risus. Etiam ligula pede, sagittis quis, interdum ultricies, scelerisque eu. In dapibus augue non sapien. Aliquam erat volutpat. Mauris dolor felis, sagittis at, luctus sed, aliquam non, tellus. Nam quis nulla. Maecenas aliquet accumsan leo.\n",
    "\n",
    "# Level 1\n",
    "\n",
    "Aenean id metus id velit ullamcorper pulvinar. Aliquam in lorem sit amet leo accumsan lacinia. Integer vulputate sem a nibh rutrum consequat. Integer lacinia. Maecenas lorem. Nullam sapien sem, ornare ac, nonummy non, lobortis a enim. Pellentesque sapien. Nemo enim ipsam voluptatem quia voluptas sit aspernatur aut odit aut fugit, sed quia consequuntur magni dolores eos qui ratione voluptatem sequi nesciunt. Vivamus luctus egestas leo. Nulla non lectus sed nisl molestie malesuada. Etiam dictum tincidunt diam. Aenean id metus id velit ullamcorper pulvinar. Etiam ligula pede, sagittis quis, interdum ultricies, scelerisque eu. Ut tempus purus at lorem. Nullam faucibus mi quis velit.\n",
    "\n",
    "Maecenas sollicitudin. Class aptent taciti sociosqu ad litora torquent per conubia nostra, per inceptos hymenaeos. Nulla est. Etiam bibendum elit eget erat. Phasellus rhoncus. Etiam sapien elit, consequat eget, tristique non, venenatis quis, ante. Aliquam ornare wisi eu metus. Praesent in mauris eu tortor porttitor accumsan. Vivamus ac leo pretium faucibus. Cum sociis natoque penatibus et magnis dis parturient montes, nascetur ridiculus mus. Etiam bibendum elit eget erat. Quis autem vel eum iure reprehenderit qui in ea voluptate velit esse quam nihil molestiae consequatur, vel illum qui dolorem eum fugiat quo voluptas nulla pariatur? Fusce suscipit libero eget elit. Nullam at arcu a est sollicitudin euismod. Sed ac dolor sit amet purus malesuada congue. Aenean id metus id velit ullamcorper pulvinar. Vestibulum erat nulla, ullamcorper nec, rutrum non, nonummy ac, erat.\n",
    "\n",
    "Sed vel lectus. Donec odio tempus molestie, porttitor ut, iaculis quis, sem. Curabitur vitae diam non enim vestibulum interdum. Duis ante orci, molestie vitae vehicula venenatis, tincidunt ac pede. Ut enim ad minima veniam, quis nostrum exercitationem ullam corporis suscipit laboriosam, nisi ut aliquid ex ea commodi consequatur? Pellentesque pretium lectus id turpis. Et harum quidem rerum facilis est et expedita distinctio. Sed ut perspiciatis unde omnis iste natus error sit voluptatem accusantium doloremque laudantium, totam rem aperiam, eaque ipsa quae ab illo inventore veritatis et quasi architecto beatae vitae dicta sunt explicabo. Donec ipsum massa, ullamcorper in, auctor et, scelerisque sed, est. Morbi leo mi, nonummy eget tristique non, rhoncus non leo. Cum sociis natoque penatibus et magnis dis parturient montes, nascetur ridiculus mus. Maecenas lorem. Curabitur sagittis hendrerit ante. Etiam egestas wisi a erat. Nullam rhoncus aliquam metus. Nullam lectus justo, vulputate eget mollis sed, tempor sed magna. Phasellus et lorem id felis nonummy placerat."
   ]
  }
 ],
 "metadata": {
  "kernelspec": {
   "display_name": "Python 3.9.13 ('venv': venv)",
   "language": "python",
   "name": "python3"
  },
  "language_info": {
   "codemirror_mode": {
    "name": "ipython",
    "version": 3
   },
   "file_extension": ".py",
   "mimetype": "text/x-python",
   "name": "python",
   "nbconvert_exporter": "python",
   "pygments_lexer": "ipython3",
   "version": "3.9.13"
  },
  "orig_nbformat": 4,
  "vscode": {
   "interpreter": {
    "hash": "bcd7e97cf71e998a93ec80db15725ed4a4806c1de3630361ecb7124b538cb899"
   }
  }
 },
 "nbformat": 4,
 "nbformat_minor": 2
}
