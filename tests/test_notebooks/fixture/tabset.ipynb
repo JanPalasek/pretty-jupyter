{
    "cells": [
        {
            "cell_type": "raw",
            "metadata": {},
            "source": [
                "title: Tabset"
            ]
        },
        {
            "cell_type": "code",
            "execution_count": null,
            "metadata": {},
            "outputs": [],
            "source": [
                "%load_ext pretty_jupyter"
            ]
        },
        {
            "cell_type": "code",
            "execution_count": null,
            "metadata": {},
            "outputs": [],
            "source": [
                "%%jmd\n",
                "\n",
                "# Basic Tabset\n",
                "[//]: # (-.- tabset tabset-fade tabset-pills)\n",
                "\n",
                "## Tab 1\n",
                "\n",
                "Lorem ipsum dolor sit amet, consectetuer adipiscing elit. Nullam dapibus fermentum ipsum. Maecenas ipsum velit, consectetuer eu lobortis ut, dictum at dui. Nullam faucibus mi quis velit. Et harum quidem rerum facilis est et expedita distinctio. Morbi scelerisque luctus velit. Etiam egestas wisi a erat. Nulla pulvinar eleifend sem. Vivamus porttitor turpis ac leo. Etiam commodo dui eget wisi. Nulla est. Cras elementum. Etiam dui sem, fermentum vitae, sagittis id, malesuada in, quam. Nullam sapien sem, ornare ac, nonummy non, lobortis a enim.\n",
                "\n",
                "$$a^2 = a \\cdot a$$\n",
                "\n",
                "## Tab 2\n",
                "[//]: # (-.- active)\n",
                "\n",
                "Etiam egestas wisi a erat. Phasellus faucibus molestie nisl. Praesent id justo in neque elementum ultrices. In sem justo, commodo ut, suscipit at, pharetra vitae, orci. Pellentesque arcu. Duis pulvinar. Itaque earum rerum hic tenetur a sapiente delectus, ut aut reiciendis voluptatibus maiores alias consequatur aut perferendis doloribus asperiores repellat. Duis condimentum augue id magna semper rutrum. Morbi imperdiet, mauris ac auctor dictum, nisl ligula egestas nulla, et sollicitudin sem purus in lacus. Nullam sit amet magna in magna gravida vehicula. Suspendisse nisl. Curabitur ligula sapien, pulvinar a vestibulum quis, facilisis vel sapien."
            ]
        },
        {
            "cell_type": "code",
            "execution_count": null,
            "metadata": {},
            "outputs": [],
            "source": [
                "%%jmd\n",
                "\n",
                "# Nested Tabset\n",
                "[//]: # (-.- .tabset .tabset-fade .tabset-pills)\n",
                "\n",
                "**Some text before tabset.**\n",
                "\n",
                "Nullam rhoncus aliquam metus. Etiam neque. In laoreet, magna id viverra tincidunt, sem odio bibendum justo, vel imperdiet sapien wisi sed libero. Integer vulputate sem a nibh rutrum consequat. Nulla non arcu lacinia neque faucibus fringilla. Nulla non lectus sed nisl molestie malesuada. Curabitur ligula sapien, pulvinar a vestibulum quis, facilisis vel sapien. Etiam quis quam. Aenean vel massa quis mauris vehicula lacinia. Praesent vitae arcu tempor neque lacinia pretium.\n",
                "\n",
                "## Tab 1\n",
                "[//]: # (-.- tabset tabset-pills tabset-fade)\n",
                "\n",
                "### Tab 11\n",
                "\n",
                "Vivamus porttitor turpis ac leo. Fusce suscipit libero eget elit. Nullam eget nisl. Phasellus enim erat, vestibulum vel, aliquam a, posuere eu, velit. Etiam commodo dui eget wisi. Duis risus. Maecenas aliquet accumsan leo. Et harum quidem rerum facilis est et expedita distinctio. Morbi leo mi, nonummy eget tristique non, rhoncus non leo. Integer rutrum, orci vestibulum ullamcorper ultricies, lacus quam ultricies odio, vitae placerat pede sem sit amet enim. Integer pellentesque quam vel velit. Etiam sapien elit, consequat eget, tristique non, venenatis quis, ante. Nullam justo enim, consectetuer nec, ullamcorper ac, vestibulum in, elit. In dapibus augue non sapien. Maecenas lorem. Curabitur sagittis hendrerit ante. Curabitur ligula sapien, pulvinar a vestibulum quis, facilisis vel sapien.\n",
                "\n",
                "### Tab 12\n",
                "\n",
                "Etiam dui sem, fermentum vitae, sagittis id, malesuada in, quam. Integer lacinia. Nunc tincidunt ante vitae massa. Maecenas fermentum, sem in pharetra pellentesque, velit turpis volutpat ante, in pharetra metus odio a lectus. Etiam dui sem, fermentum vitae, sagittis id, malesuada in, quam. Class aptent taciti sociosqu ad litora torquent per conubia nostra, per inceptos hymenaeos. Integer in sapien. Donec iaculis gravida nulla. Mauris elementum mauris vitae tortor. Duis ante orci, molestie vitae vehicula venenatis, tincidunt ac pede. Integer tempor. Vivamus porttitor turpis ac leo. Fusce dui leo, imperdiet in, aliquam sit amet, feugiat eu, orci. Praesent vitae arcu tempor neque lacinia pretium. Phasellus enim erat, vestibulum vel, aliquam a, posuere eu, velit. Suspendisse sagittis ultrices augue. Aenean placerat. Morbi imperdiet, mauris ac auctor dictum, nisl ligula egestas nulla, et sollicitudin sem purus in lacus.\n",
                "\n",
                "## Tab 2\n",
                "[//]: # (-.- tabset tabset-pills tabset-fade)\n",
                "\n",
                "### Tab 21\n",
                "\n",
                "Integer vulputate sem a nibh rutrum consequat. Donec ipsum massa, ullamcorper in, auctor et, scelerisque sed, est. Integer malesuada. Nemo enim ipsam voluptatem quia voluptas sit aspernatur aut odit aut fugit, sed quia consequuntur magni dolores eos qui ratione voluptatem sequi nesciunt. Mauris dolor felis, sagittis at, luctus sed, aliquam non, tellus. Praesent in mauris eu tortor porttitor accumsan. Mauris metus. Et harum quidem rerum facilis est et expedita distinctio. Aliquam id dolor. Maecenas sollicitudin. Nulla quis diam. Excepteur sint occaecat cupidatat non proident, sunt in culpa qui officia deserunt mollit anim id est laborum. Maecenas ipsum velit, consectetuer eu lobortis ut, dictum at dui. In rutrum. Nullam justo enim, consectetuer nec, ullamcorper ac, vestibulum in, elit. Aliquam id dolor.\n",
                "\n",
                "### Tab 22\n",
                "\n",
                "Curabitur ligula sapien, pulvinar a vestibulum quis, facilisis vel sapien. Etiam quis quam. Morbi leo mi, nonummy eget tristique non, rhoncus non leo. Pellentesque ipsum. Duis risus. Aliquam id dolor. Aenean vel massa quis mauris vehicula lacinia. Integer pellentesque quam vel velit. Nulla quis diam. Ut enim ad minim veniam, quis nostrud exercitation ullamco laboris nisi ut aliquip ex ea commodo consequat.\n",
                "\n",
                "### Tab 23\n",
                "[//]: <> (-.- active)\n",
                "\n",
                "Vivamus ac leo pretium faucibus. Etiam sapien elit, consequat eget, tristique non, venenatis quis, ante. Pellentesque habitant morbi tristique senectus et netus et malesuada fames ac turpis egestas. Etiam posuere lacus quis dolor. Aliquam ornare wisi eu metus. Neque porro quisquam est, qui dolorem ipsum quia dolor sit amet, consectetur, adipisci velit, sed quia non numquam eius modi tempora incidunt ut labore et dolore magnam aliquam quaerat voluptatem. Duis pulvinar. Nulla quis diam. Fusce consectetuer risus a nunc. Fusce tellus odio, dapibus id fermentum quis, suscipit id erat."
            ]
        },
        {
            "cell_type": "code",
            "execution_count": null,
            "metadata": {},
            "outputs": [],
            "source": [
                "%%jmd\n",
                "\n",
                "# Tabset with continuation\n",
                "\n",
                "## \n",
                "[//]: # (-.- toc-ignore tabset tabset-pills tabset-fade)\n",
                "\n",
                "### Tab 1\n",
                "\n",
                "Tab 1 text.\n",
                "\n",
                "### Tab 2\n",
                "\n",
                "Tab 2 text.\n",
                "\n",
                "## \n",
                "[//]: # (-.- toc-ignore tabset tabset-pills)\n",
                "\n",
                "<span id=\"continuation1\"><strong>And this is visible always.</strong></span>\n",
                "\n",
                "Another section follows after that.\n",
                "\n",
                "### Tab 1\n",
                "[//]: # (-.- active)\n",
                "\n",
                "In sem justo, commodo ut, suscipit at, pharetra vitae, orci. Integer pellentesque quam vel velit. Proin pede metus, vulputate nec, fermentum fringilla, vehicula vitae, justo. Phasellus rhoncus. Fusce suscipit libero eget elit. Temporibus autem quibusdam et aut officiis debitis aut rerum necessitatibus saepe eveniet ut et voluptates repudiandae sint et molestiae non recusandae. Mauris dolor felis, sagittis at, luctus sed, aliquam non, tellus. Neque porro quisquam est, qui dolorem ipsum quia dolor sit amet, consectetur, adipisci velit, sed quia non numquam eius modi tempora incidunt ut labore et dolore magnam aliquam quaerat voluptatem. Phasellus enim erat, vestibulum vel, aliquam a, posuere eu, velit. Pellentesque arcu. Nullam justo enim, consectetuer nec, ullamcorper ac, vestibulum in, elit. Duis viverra diam non justo. Aliquam in lorem sit amet leo accumsan lacinia. Sed ut perspiciatis unde omnis iste natus error sit voluptatem accusantium doloremque laudantium, totam rem aperiam, eaque ipsa quae ab illo inventore veritatis et quasi architecto beatae vitae dicta sunt explicabo. Suspendisse sagittis ultrices augue. Nullam dapibus fermentum ipsum.\n",
                "\n",
                "### Tab 2\n",
                "\n",
                "Integer vulputate sem a nibh rutrum consequat. Nulla est. Fusce nibh. In rutrum. Praesent id justo in neque elementum ultrices. Class aptent taciti sociosqu ad litora torquent per conubia nostra, per inceptos hymenaeos. Excepteur sint occaecat cupidatat non proident, sunt in culpa qui officia deserunt mollit anim id est laborum. Nullam dapibus fermentum ipsum. Maecenas aliquet accumsan leo. Nullam sit amet magna in magna gravida vehicula. Duis bibendum, lectus ut viverra rhoncus, dolor nunc faucibus libero, eget facilisis enim ipsum id lacus. Quis autem vel eum iure reprehenderit qui in ea voluptate velit esse quam nihil molestiae consequatur, vel illum qui dolorem eum fugiat quo voluptas nulla pariatur? Praesent id justo in neque elementum ultrices. Class aptent taciti sociosqu ad litora torquent per conubia nostra, per inceptos hymenaeos. Class aptent taciti sociosqu ad litora torquent per conubia nostra, per inceptos hymenaeos. Nam sed tellus id magna elementum tincidunt. Class aptent taciti sociosqu ad litora torquent per conubia nostra, per inceptos hymenaeos. Pellentesque pretium lectus id turpis.\n",
                "\n",
                "## \n",
                "[//]: # (-.- toc-ignore)\n",
                "\n",
                "<span id=\"continuation2\"><strong>And we can repeat this so on and so forth.</strong></span>"
            ]
        }
    ],
    "metadata": {
        "kernelspec": {
            "display_name": "Python 3.9.13 ('venv': venv)",
            "language": "python",
            "name": "python3"
        },
        "language_info": {
            "codemirror_mode": {
                "name": "ipython",
                "version": 3
            },
            "file_extension": ".py",
            "mimetype": "text/x-python",
            "name": "python",
            "nbconvert_exporter": "python",
            "pygments_lexer": "ipython3",
            "version": "3.9.13"
        },
        "vscode": {
            "interpreter": {
                "hash": "bcd7e97cf71e998a93ec80db15725ed4a4806c1de3630361ecb7124b538cb899"
            }
        }
    },
    "nbformat": 4,
    "nbformat_minor": 2
}
